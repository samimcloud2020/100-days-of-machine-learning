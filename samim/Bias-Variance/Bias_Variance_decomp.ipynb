{
  "cells": [
    {
      "cell_type": "code",
      "execution_count": 1,
      "metadata": {
        "id": "AUtpOZ-rqvYJ"
      },
      "outputs": [],
      "source": [
        "from mlxtend.evaluate import bias_variance_decomp\n",
        "from sklearn.tree import DecisionTreeRegressor\n",
        "from sklearn.model_selection import train_test_split\n",
        "from sklearn.ensemble import RandomForestRegressor\n",
        "from mlxtend.data import boston_housing_data\n",
        "import pandas as pd\n",
        "import matplotlib.pyplot as plt\n",
        "import numpy as np\n",
        "from sklearn.linear_model import LinearRegression, Lasso\n",
        "from sklearn.neighbors import KNeighborsRegressor\n",
        "import warnings\n",
        "warnings.filterwarnings('ignore')"
      ]
    },
    {
      "cell_type": "code",
      "execution_count": 3,
      "metadata": {
        "id": "iI16VOzmqvYL"
      },
      "outputs": [],
      "source": [
        "def get_bias_var(tree, X_train, y_train, X_test, y_test, loss_type):\n",
        "    avg_expected_loss, avg_bias, avg_var = bias_variance_decomp(tree, X_train, y_train, X_test, y_test, loss=loss_type, random_seed=123)\n",
        "\n",
        "    print('Average expected loss: %.3f' % avg_expected_loss)\n",
        "    print('Average bias: %.3f' % avg_bias)\n",
        "    print('Average variance: %.3f' % avg_var)\n",
        "    return"
      ]
    },
    {
      "cell_type": "markdown",
      "metadata": {
        "id": "j-w4sFPRqvYM"
      },
      "source": [
        "### Pruning DT reduces the variance"
      ]
    },
    {
      "cell_type": "code",
      "execution_count": 5,
      "metadata": {
        "colab": {
          "base_uri": "https://localhost:8080/"
        },
        "id": "HZqqNAf_qvYN",
        "outputId": "309d220d-d1b3-4e59-a8ff-56a309f66e80"
      },
      "outputs": [
        {
          "output_type": "stream",
          "name": "stdout",
          "text": [
            "variance Reduction: -61.1%\n",
            "At the expense of introducing bias: 112.98%\n"
          ]
        }
      ],
      "source": [
        "X, y = boston_housing_data()\n",
        "X_train, X_test, y_train, y_test = train_test_split(X, y, test_size=0.3, random_state=123, shuffle=True)\n",
        "tree = DecisionTreeRegressor(random_state=123)\n",
        "error_dt, bias_dt, var_dt = bias_variance_decomp(tree, X_train, y_train, X_test, y_test,'mse', random_seed=123)\n",
        "\n",
        "\n",
        "\n",
        "tree_pruned = DecisionTreeRegressor(random_state=123, max_depth=2)\n",
        "error_dt_pruned, bias_dt_pruned, var_dt_pruned = bias_variance_decomp(tree_pruned, X_train, y_train, X_test, y_test,'mse', random_seed=123)\n",
        "\n",
        "print(\"variance Reduction:\", str(np.round((var_dt_pruned/var_dt-1)*100,2)) + '%')\n",
        "print(\"At the expense of introducing bias:\", str(np.round((bias_dt_pruned/bias_dt-1)*100, 2)) + '%')"
      ]
    },
    {
      "cell_type": "code",
      "source": [
        "get_bias_var(tree, X_train, y_train, X_test, y_test,'mse')"
      ],
      "metadata": {
        "colab": {
          "base_uri": "https://localhost:8080/"
        },
        "id": "5c0tvbrsrwOb",
        "outputId": "d5b50048-ee4f-41cd-9c87-2ec08ecf1929"
      },
      "execution_count": 7,
      "outputs": [
        {
          "output_type": "stream",
          "name": "stdout",
          "text": [
            "Average expected loss: 31.536\n",
            "Average bias: 14.096\n",
            "Average variance: 17.440\n"
          ]
        }
      ]
    },
    {
      "cell_type": "markdown",
      "metadata": {
        "id": "IS3P23gUqvYO"
      },
      "source": [
        "### Using Ensemble/Random Forest to reduce variance"
      ]
    },
    {
      "cell_type": "code",
      "execution_count": 8,
      "metadata": {
        "colab": {
          "base_uri": "https://localhost:8080/"
        },
        "id": "tb4hqivlqvYP",
        "outputId": "d438dab6-fa17-4609-e6f7-d333a3a5257e"
      },
      "outputs": [
        {
          "output_type": "stream",
          "name": "stdout",
          "text": [
            "variance Reduction: -82.0%\n",
            "At the expense of introducing bias: 9.24%\n"
          ]
        }
      ],
      "source": [
        "tree = DecisionTreeRegressor(random_state=123)\n",
        "error_dt, bias_dt, var_dt = bias_variance_decomp(tree, X_train, y_train, X_test, y_test,'mse', random_seed=123)\n",
        "\n",
        "tree_rf = RandomForestRegressor(random_state=123)\n",
        "error_rf, bias_rf, var_rf = bias_variance_decomp(tree_rf, X_train, y_train, X_test, y_test,'mse', random_seed=123)\n",
        "\n",
        "print(\"variance Reduction:\", str(np.round((var_rf/var_dt-1)*100,2))+ '%')\n",
        "print(\"At the expense of introducing bias:\", str(np.round((bias_rf/bias_dt-1)*100, 2)) + '%')"
      ]
    },
    {
      "cell_type": "markdown",
      "metadata": {
        "id": "qWz-UB9JqvYP"
      },
      "source": [
        "### KNN -- a high value of k leads to high bias and low variance"
      ]
    },
    {
      "cell_type": "code",
      "execution_count": 10,
      "metadata": {
        "colab": {
          "base_uri": "https://localhost:8080/",
          "height": 447
        },
        "id": "khpFcMjxqvYP",
        "outputId": "09325d94-eb42-45c0-ad47-ef95e2e5f62b"
      },
      "outputs": [
        {
          "output_type": "execute_result",
          "data": {
            "text/plain": [
              "<matplotlib.legend.Legend at 0x79eb4fc8b5b0>"
            ]
          },
          "metadata": {},
          "execution_count": 10
        },
        {
          "output_type": "display_data",
          "data": {
            "text/plain": [
              "<Figure size 640x480 with 1 Axes>"
            ],
            "image/png": "[encoded data removed]"
          },
          "metadata": {}
        }
      ],
      "source": [
        "bias_knn, var_knn, error_knn = [], [], []\n",
        "for k in range(1, 15):\n",
        "    clf_knn = KNeighborsRegressor(n_neighbors=k)\n",
        "    avg_expected_loss, avg_bias, avg_var  = avg_expected_loss, avg_bias, avg_var = bias_variance_decomp(clf_knn, X_train, y_train, X_test, y_test, loss='mse', random_seed=123)\n",
        "    bias_knn.append(avg_bias)\n",
        "    var_knn.append(avg_var)\n",
        "    error_knn.append(avg_expected_loss)\n",
        "plt.plot(range(1,15), error_knn, 'b', label = 'total_error')\n",
        "plt.plot(range(1,15), bias_knn, 'k', label = 'bias')\n",
        "plt.plot(range(1,15), var_knn, 'y', label = 'variance')\n",
        "plt.legend()"
      ]
    },
    {
      "cell_type": "markdown",
      "metadata": {
        "id": "WWuXTLGzqvYQ"
      },
      "source": [
        "### Adding features bring down the bias"
      ]
    },
    {
      "cell_type": "code",
      "execution_count": 11,
      "metadata": {
        "colab": {
          "base_uri": "https://localhost:8080/",
          "height": 470
        },
        "id": "fxjUeQYcqvYQ",
        "outputId": "e8b36d01-c18f-4583-d4d9-2024c1c23775"
      },
      "outputs": [
        {
          "output_type": "stream",
          "name": "stdout",
          "text": [
            "Top 6 features controbute 95% of total feature importance: 0.9594062193675349\n"
          ]
        },
        {
          "output_type": "execute_result",
          "data": {
            "text/plain": [
              "<matplotlib.legend.Legend at 0x79eb4faffaf0>"
            ]
          },
          "metadata": {},
          "execution_count": 11
        },
        {
          "output_type": "display_data",
          "data": {
            "text/plain": [
              "<Figure size 640x480 with 1 Axes>"
            ],
            "image/png": "[encoded data removed]"
          },
          "metadata": {}
        }
      ],
      "source": [
        "tree = DecisionTreeRegressor(random_state=123)\n",
        "tree.fit(X_train, y_train)\n",
        "feat_array = tree.feature_importances_\n",
        "\n",
        "df_feat = pd.DataFrame()\n",
        "name_list, importance_list = [], []\n",
        "for name, importance in zip(range(X_train.shape[1]), feat_array):\n",
        "    name_list.append(name)\n",
        "    importance_list.append(importance)\n",
        "df_feat['name'] = name_list\n",
        "df_feat['importance'] = importance_list\n",
        "\n",
        "print(\"Top 6 features controbute 95% of total feature importance:\", df_feat.sort_values(by = 'importance', ascending = False).head(6)['importance'].sum())\n",
        "\n",
        "error_fs, bias_fs, var_fs  = [], [], []\n",
        "feat_count = [2,3,4,5,6,7,8,9,10,11,12]\n",
        "for feat in feat_count:\n",
        "    top_feat = df_feat.sort_values(by = 'importance', ascending = False).head(feat)['name'].values\n",
        "    X_train_fs = X_train[:, top_feat]\n",
        "    X_test_fs = X_test[:, top_feat]\n",
        "    avg_expected_loss, avg_bias, avg_var = bias_variance_decomp(tree, X_train_fs, y_train, X_test_fs, y_test, loss='mse', random_seed=123)\n",
        "    error_fs.append(avg_expected_loss)\n",
        "    bias_fs.append(avg_bias)\n",
        "    var_fs.append(avg_var)\n",
        "\n",
        "plt.plot(feat_count, error_fs, 'b', label = 'total_error')\n",
        "plt.plot(feat_count, bias_fs, 'k', label = 'bias')\n",
        "plt.plot(feat_count, var_fs, 'y', label = 'variance')\n",
        "plt.legend()"
      ]
    },
    {
      "cell_type": "markdown",
      "metadata": {
        "id": "ywdz9ZfBqvYR"
      },
      "source": [
        "### Regularization to control the variance"
      ]
    },
    {
      "cell_type": "code",
      "execution_count": 12,
      "metadata": {
        "colab": {
          "base_uri": "https://localhost:8080/"
        },
        "id": "PnjqJEUGqvYR",
        "outputId": "4e406d45-7821-4331-8f23-079ab534fa2d"
      },
      "outputs": [
        {
          "output_type": "stream",
          "name": "stdout",
          "text": [
            "variance Reduction: -8.300876521565892\n",
            "At the expense of introducing bias: 5.913326786791506\n"
          ]
        }
      ],
      "source": [
        "linear_model = LinearRegression()\n",
        "lasso_model = Lasso(alpha=0.05)\n",
        "error_reg, bias_reg, var_reg = bias_variance_decomp(lasso_model, X_train, y_train, X_test, y_test, loss='mse', random_seed=123)\n",
        "error_no_reg, bias_no_reg, var_no_reg = bias_variance_decomp(linear_model, X_train, y_train, X_test, y_test, loss='mse', random_seed=123)\n",
        "print(\"variance Reduction:\", (var_reg/var_no_reg-1)*100)\n",
        "print(\"At the expense of introducing bias:\", (bias_reg/bias_no_reg-1)*100)"
      ]
    },
    {
      "cell_type": "code",
      "execution_count": null,
      "metadata": {
        "id": "zWYy_UX9qvYR"
      },
      "outputs": [],
      "source": []
    }
  ],
  "metadata": {
    "kernelspec": {
      "display_name": "Python 3",
      "language": "python",
      "name": "python3"
    },
    "language_info": {
      "codemirror_mode": {
        "name": "ipython",
        "version": 3
      },
      "file_extension": ".py",
      "mimetype": "text/x-python",
      "name": "python",
      "nbconvert_exporter": "python",
      "pygments_lexer": "ipython3",
      "version": "3.6.5"
    },
    "colab": {
      "provenance": []
    }
  },
  "nbformat": 4,
  "nbformat_minor": 0
}